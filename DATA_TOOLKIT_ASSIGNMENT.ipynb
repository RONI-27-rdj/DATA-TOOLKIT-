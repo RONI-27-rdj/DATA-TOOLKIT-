{
  "nbformat": 4,
  "nbformat_minor": 0,
  "metadata": {
    "colab": {
      "provenance": []
    },
    "kernelspec": {
      "name": "python3",
      "display_name": "Python 3"
    },
    "language_info": {
      "name": "python"
    }
  },
  "cells": [
    {
      "cell_type": "markdown",
      "source": [
        "# DATA TOOLKIT{PW ASSIGNMENT THEORY}"
      ],
      "metadata": {
        "id": "uRstmv4mZR8F"
      }
    },
    {
      "cell_type": "markdown",
      "source": [
        "# QUESTION 1 What is NumPy, and why is it widely used in Python?"
      ],
      "metadata": {
        "id": "uedTgeBBZdz-"
      }
    },
    {
      "cell_type": "markdown",
      "source": [
        "-> NumPy (Numerical Python) is a library for working with arrays and mathematical operations in Python. It provides support for large, multi-dimensional arrays and matrices, and is the foundation of most scientific computing in Python.\n",
        "\n",
        "Why is NumPy widely used?\n",
        "\n",
        "1. **Efficient Data Structures**: NumPy's arrays are more efficient than Python's built-in lists for numerical computations. They provide a compact and efficient way to store and manipulate large datasets.\n",
        "2. **Vectorized Operations**: NumPy allows you to perform operations on entire arrays at once, which can significantly speed up computations compared to working with Python's built-in lists.\n",
        "3. **Mathematical Functions**: NumPy provides an extensive set of mathematical functions for performing operations like linear algebra, random number generation, and statistical calculations.\n",
        "4. **Interoperability**: NumPy arrays can be easily integrated with other popular Python libraries for scientific computing, such as Pandas, SciPy, and Matplotlib"
      ],
      "metadata": {
        "id": "z1AqLrhCZjdN"
      }
    },
    {
      "cell_type": "markdown",
      "source": [
        "# QUESTION 2 How does broadcasting work in NumPy?"
      ],
      "metadata": {
        "id": "5zdtsIMka4KX"
      }
    },
    {
      "cell_type": "markdown",
      "source": [
        "-> Broadcasting is a powerful feature in NumPy that allows you to perform operations on arrays with different shapes and sizes. It enables you to align arrays with different numbers of dimensions and sizes, making it possible to perform element-wise operations.\n",
        "\n",
        "How Does Broadcasting Work?\n",
        "\n",
        "When performing operations on two arrays, NumPy compares their shapes element-wise from right to left (i.e., from the last dimension to the first). It follows these rules:\n",
        "\n",
        "1. If the two arrays differ in their number of dimensions, the shape of the one with fewer dimensions is padded with ones on its leading (left) side.\n",
        "2. If the shape of two arrays does not match in a particular dimension, the size in that dimension must be 1 in one of the arrays.\n",
        "3. If the size in a dimension is 1 in one array and greater than 1 in the other, the array with size 1 in that dimension is \"broadcasted\" to match the size of the other array.\n"
      ],
      "metadata": {
        "id": "cOtFjN_La_dR"
      }
    },
    {
      "cell_type": "markdown",
      "source": [
        "# QUESTION 3 What is Pandas DataFrame?"
      ],
      "metadata": {
        "id": "LdTM3Xqxb5AO"
      }
    },
    {
      "cell_type": "markdown",
      "source": [
        "-> A Pandas DataFrame is a two-dimensional data structure in Python's Pandas library that is used to store and manipulate tabular data. It is similar to an Excel spreadsheet or a table in a relational database. DataFrames are powerful data structures that allow you to store and manipulate data in a structured way, making it easy to perform data analysis and manipulation tasks.\n"
      ],
      "metadata": {
        "id": "fG6WGea4cDzg"
      }
    },
    {
      "cell_type": "markdown",
      "source": [
        "# QUESTION 4  Explain the use of the groupby() method in Pandas."
      ],
      "metadata": {
        "id": "FiWljtHXdKYA"
      }
    },
    {
      "cell_type": "markdown",
      "source": [
        "-> The groupby() method in Pandas is a powerful tool that allows you to group a DataFrame by one or more columns and perform various operations on the grouped data. It is commonly used for data analysis and manipulation tasks, such as aggregating data, calculating statistics, and transforming data.\n"
      ],
      "metadata": {
        "id": "6XpFCGrldPyF"
      }
    },
    {
      "cell_type": "markdown",
      "source": [
        "# QUESTION 5 Why is Seaborn preferred for statistical visualizations?"
      ],
      "metadata": {
        "id": "vi5Y8YxxdcwH"
      }
    },
    {
      "cell_type": "markdown",
      "source": [
        "-> Seaborn is a Python data visualization library built on top of Matplotlib that provides a high-level interface for drawing attractive and informative statistical graphics. It is preferred for statistical visualizations due to several reasons:\n",
        "\n",
        "1. **Attractive Visualizations**: Seaborn produces visually appealing plots with a modern aesthetic, making it easier to communicate insights and findings.\n",
        "2. **High-Level Interface**: Seaborn provides a high-level interface for creating statistical graphics, allowing users to focus on the data and the story they want to tell, rather than the details of the plot.\n",
        "3. **Integration with Pandas**: Seaborn is designed to work seamlessly with Pandas DataFrames, making it easy to visualize and analyze data.\n",
        "4. **Statistical Graphics**: Seaborn provides a range of statistical graphics, including heatmaps, scatterplots, bar plots, and more, that are specifically designed for statistical analysis.\n",
        "5. **Customization Options**: Seaborn provides a range of customization options, allowing users to tailor their plots to their specific needs.\n"
      ],
      "metadata": {
        "id": "ISoD4GuJdjK3"
      }
    },
    {
      "cell_type": "markdown",
      "source": [
        "# QUESTION 6 What are the differences between NumPy arrays and Python lists?"
      ],
      "metadata": {
        "id": "SSLPQJ71dv0p"
      }
    },
    {
      "cell_type": "markdown",
      "source": [
        "-> NumPy arrays and Python lists are two different data structures that can be used to store and manipulate data. While both can be used for storing collections of data, there are significant differences between them.\n",
        "\n",
        "1.**Data Type**\n",
        "\n",
        "- NumPy Arrays: NumPy arrays are homogeneous, meaning all elements in the array must be of the same data type. This allows for more efficient storage and computation.\n",
        "- Python Lists: Python lists are heterogeneous, meaning elements can be of different data types.\n",
        "\n",
        "2. **Performance**\n",
        "\n",
        "- NumPy Arrays: NumPy arrays are much faster than Python lists for numerical computations. This is because NumPy arrays are stored in a contiguous block of memory, allowing for efficient caching and vectorized operations.\n",
        "- Python Lists: Python lists are slower than NumPy arrays for numerical computations due to their dynamic nature and the overhead of Python's object model.\n",
        "\n",
        "3. **Memory Usage**\n",
        "\n",
        "- NumPy Arrays: NumPy arrays are more memory-efficient than Python lists, especially for large datasets. This is because NumPy arrays store data in a compact, homogeneous format.\n",
        "- Python Lists: Python lists require more memory than NumPy arrays due to the overhead of Python's object model and the dynamic nature of lists.\n",
        "\n",
        "4. **Operations**\n",
        "\n",
        "- NumPy Arrays: NumPy arrays support vectorized operations, which allow you to perform operations on the entire array at once. This makes it easy to perform element-wise operations, matrix multiplications, and other advanced mathematical operations.\n",
        "- Python Lists: Python lists do not support vectorized operations. Instead, you need to use loops or list comprehensions to perform operations on the elements of a list.\n",
        "\n",
        "5. **Dimensionality**\n",
        "\n",
        "- NumPy Arrays: NumPy arrays can be multi-dimensional, making it easy to represent matrices, tensors, and other complex data structures.\n",
        "- Python Lists: Python lists can also be nested to represent multi-dimensional data structures, but they do not have built-in support for matrix operations like NumPy arrays do.\n"
      ],
      "metadata": {
        "id": "dWMHg4MOd1ra"
      }
    },
    {
      "cell_type": "markdown",
      "source": [
        "# QUESTION 7 What is a heatmap, and when should it be used?"
      ],
      "metadata": {
        "id": "8F4yE5bQeJH8"
      }
    },
    {
      "cell_type": "markdown",
      "source": [
        "-> A heatmap is a graphical representation of data that uses colors to represent the magnitude of the values. It is a two-dimensional representation of data where values are depicted by color. Heatmaps are often used to visualize complex data, such as correlation matrices, density plots, or other types of data that can be represented as a matrix.\n",
        "\n",
        "When to Use a Heatmap:\n",
        "\n",
        "1. **Visualizing Correlation**: Heatmaps are often used to visualize correlation matrices, which show the correlation between different variables in a dataset.\n",
        "2. **Density Plots**: Heatmaps can be used to create density plots, which show the distribution of data points in a two-dimensional space.\n",
        "3. **Comparing Categories**: Heatmaps can be used to compare categories or groups across different variables.\n",
        "4. **Identifying Pattern**s: Heatmaps can be used to identify patterns or trends in data, such as clusters or outliers.\n"
      ],
      "metadata": {
        "id": "9lCjLeaKeO8t"
      }
    },
    {
      "cell_type": "markdown",
      "source": [
        "# QUESTION 8 What does the term \"vectorized operation\" mean in Numpy?"
      ],
      "metadata": {
        "id": "5dtf6mb5eiyX"
      }
    },
    {
      "cell_type": "markdown",
      "source": [
        "-> A vectorized operation in NumPy is an operation that is performed on an entire array at once, without the need for explicit loops. This allows for efficient and fast computation on large datasets.\n"
      ],
      "metadata": {
        "id": "kjDl6cf0e00Z"
      }
    },
    {
      "cell_type": "markdown",
      "source": [
        "# QUESTION 9  How does Matplotlib differ from Plotly?"
      ],
      "metadata": {
        "id": "RC8q0DhZfpf9"
      }
    },
    {
      "cell_type": "markdown",
      "source": [
        "-> Matplotlib and Plotly are two popular data visualization libraries in Python. While both libraries can be used to create a wide range of plots and charts, they have different strengths and use cases.\n",
        "\n",
        "**Matplotlib**:\n",
        "\n",
        "- **Static Plots**: Matplotlib is primarily used for creating static plots, which are useful for publications, reports, and presentations.\n",
        "- **Low-Level Control**: Matplotlib provides low-level control over plot customization, allowing users to fine-tune every aspect of the plot.\n",
        "- **2D and 3D Plotting**: Matplotlib supports both 2D and 3D plotting, making it a versatile library for data visualization.\n",
        "\n",
        "**Plotly**:\n",
        "\n",
        "- **Interactive Plots**: Plotly is known for its interactive plots, which allow users to hover over data points, zoom in and out, and pan across the plot.\n",
        "- **Web-Based**: Plotly plots can be embedded in web pages, making it a great choice for sharing interactive visualizations with others.\n",
        "- **3D Plotti**ng: Plotly supports 3D plotting and provides a range of interactive 3D plot types.\n",
        "\n"
      ],
      "metadata": {
        "id": "Dg5-A-wOfwEL"
      }
    },
    {
      "cell_type": "markdown",
      "source": [
        " # QUESTION 10 What is the significance of hierarchical indexing in Pandas?"
      ],
      "metadata": {
        "id": "CAECfiVRgDoe"
      }
    },
    {
      "cell_type": "markdown",
      "source": [
        "-> Hierarchical indexing, also known as multi-indexing, is a feature in Pandas that allows you to create indexes with multiple levels. This enables you to store and manipulate data with complex structures, such as data with multiple categories or dimensions.\n",
        "\n",
        "Significance of Hierarchical Indexing:\n",
        "\n",
        "1. **Data Organization**: Hierarchical indexing allows you to organize your data in a more structured way, making it easier to access and manipulate.\n",
        "2. **Data Analysis**: Hierarchical indexing enables you to perform data analysis on multiple levels of data, such as aggregating data by multiple categories.\n",
        "3. **Data Selectio**n: Hierarchical indexing allows you to select data based on multiple conditions, making it easier to filter and manipulate your data.\n"
      ],
      "metadata": {
        "id": "MxR2l2G8gJft"
      }
    },
    {
      "cell_type": "markdown",
      "source": [
        "# QUESTION 11 What is the role of Seaborn’s pairplot() function?"
      ],
      "metadata": {
        "id": "8h0jYI8ygWJb"
      }
    },
    {
      "cell_type": "markdown",
      "source": [
        "-> Seaborn's pairplot() function is a powerful visualization tool that creates a matrix of pairwise scatter plots and histograms for a dataset. It is used to visualize the relationships between multiple variables in a dataset.\n",
        "\n",
        "*Role of pairplot():*\n",
        "\n",
        "1. **Visualizing Relationships**: pairplot() helps to visualize the relationships between multiple variables in a dataset, including correlations, distributions, and patterns.\n",
        "2. **Identifying Patterns**: By examining the scatter plots and histograms, you can identify patterns, such as linear or non-linear relationships, outliers, and clusters.\n",
        "3.** Data Exploration**: pairplot() is a useful tool for data exploration, allowing you to quickly visualize the relationships between multiple variables and identify potential issues or insights.\n"
      ],
      "metadata": {
        "id": "-eU96shJgcA6"
      }
    },
    {
      "cell_type": "markdown",
      "source": [
        "# QUESTION 12 What is the purpose of the describe() function in Pandas?"
      ],
      "metadata": {
        "id": "6DqcNjdSgnda"
      }
    },
    {
      "cell_type": "markdown",
      "source": [
        "-> The describe() function in Pandas is a powerful tool that generates descriptive statistics for a DataFrame or Series. It provides a concise summary of the central tendency, dispersion, and shape of the data.\n",
        "\n",
        "*Purpose of describe():*\n",
        "\n",
        "1. **Data Summary**: describe() provides a quick and easy way to summarize the main characteristics of a dataset.\n",
        "2. **Data Exploration**: describe() is useful for data exploration, allowing you to understand the distribution of values, identify outliers, and detect potential issues.\n",
        "3. Data Analysis: describe() provides valuable insights into the data, which can inform further analysis and decision-making.\n",
        "\n",
        "*Statistics Generated by describe():*\n",
        "\n",
        "- **Count**: The number of non-null values in the dataset.\n",
        "- **Mean**: The mean value of the dataset.\n",
        "- **Standard Deviation**: The standard deviation of the dataset.\n",
        "- **Minimum**: The minimum value in the dataset.\n",
        "- **25th Percentile**: The 25th percentile (Q1) of the dataset.\n",
        "- **50th Percentile**: The 50th percentile (median) of the dataset.\n",
        "- **75th Percentile**: The 75th percentile (Q3) of the dataset.\n",
        "-** Maximum**: The maximum value in the dataset.\n",
        "\n"
      ],
      "metadata": {
        "id": "vHQ9Eq0ZgsUr"
      }
    },
    {
      "cell_type": "markdown",
      "source": [
        "# QUESTION 13 Why is handling missing Data important in Pandas?"
      ],
      "metadata": {
        "id": "u2TN3f7ihGSf"
      }
    },
    {
      "cell_type": "markdown",
      "source": [
        "-> Handling missing data is crucial in Pandas because missing values can significantly impact the accuracy and reliability of data analysis and modeling. Missing data can lead to:\n",
        "\n",
        "1. **Biased Results**: Missing data can introduce bias into analysis and modeling results, leading to incorrect conclusions.\n",
        "2. **Inaccurate Models**: Missing data can affect the performance and accuracy of machine learning models.\n",
        "3. **Data Quality Issues**: Missing data can indicate data quality issues, such as errors in data collection or processing.\n",
        "\n",
        "Why Handle Missing Data?\n",
        "\n",
        "1. **Improve Data Quality**: Handling missing data helps to improve data quality and ensure that analysis and modeling results are accurate and reliable.\n",
        "2. **Increase Model Performance**: Handling missing data can improve the performance of machine learning models by reducing the impact of missing values.\n",
        "3. **Better Decision-Making**: By handling missing data effectively, you can make more informed decisions based on accurate and reliable analysis results.\n"
      ],
      "metadata": {
        "id": "gUUHQSYchmn7"
      }
    },
    {
      "cell_type": "markdown",
      "source": [
        "# QUESTION 14 What are the benefits of using Plotly for data visualization?"
      ],
      "metadata": {
        "id": "5Qu-lEEmhuzc"
      }
    },
    {
      "cell_type": "markdown",
      "source": [
        "-> Plotly is a powerful data visualization library that offers several benefits, including:\n",
        "\n",
        "1. **Interactive Visualizations**: Plotly creates interactive visualizations that allow users to hover over data points, zoom in and out, and pan across the plot.\n",
        "2. **Web-Based Visualizations**: Plotly visualizations can be embedded in web pages, making it easy to share interactive visualizations with others.\n",
        "3. **3D Visualizations**: Plotly supports 3D visualizations, allowing users to create complex and interactive 3D plots.\n",
        "4. **Customizable**: Plotly is highly customizable, allowing users to tailor their visualizations to their specific needs.\n",
        "5. **Large Community**: Plotly has a large and active community, which means there are many resources available for learning and troubleshooting.\n"
      ],
      "metadata": {
        "id": "fhwi5nz-h-ZV"
      }
    },
    {
      "cell_type": "markdown",
      "source": [
        "# QUESTION 15 A How does NumPy handle multidimensional arrays?"
      ],
      "metadata": {
        "id": "iRMOvWV2iMIo"
      }
    },
    {
      "cell_type": "markdown",
      "source": [
        "-> NumPy is designed to handle multidimensional arrays efficiently and flexibly. Here are some key features of how NumPy handles multidimensional arrays:\n",
        "\n",
        "1. **Multidimensional Array Structure**: NumPy arrays can have any number of dimensions, allowing you to represent complex data structures such as matrices, tensors, and images.\n",
        "2. **Indexing and Slicing**: NumPy arrays support advanced indexing and slicing, allowing you to access and manipulate specific elements or subsets of the array.\n",
        "3. **Broadcasting**: NumPy's broadcasting feature allows you to perform operations on arrays with different shapes and sizes, making it easy to perform element-wise operations.\n",
        "4. **Vectorized Operations**: NumPy's vectorized operations allow you to perform operations on entire arrays at once, making it fast and efficient.\n"
      ],
      "metadata": {
        "id": "Dwu3_KBKiR0J"
      }
    },
    {
      "cell_type": "markdown",
      "source": [
        "# QUESTION 16  What is the role of Bokeh in data visualization?"
      ],
      "metadata": {
        "id": "3SZC3Sp9igMS"
      }
    },
    {
      "cell_type": "markdown",
      "source": [
        "-> Bokeh is a Python interactive visualization library that targets modern web browsers for presentation. It provides elegant, concise construction of versatile graphics, and also delivers this capability with high-performance interactivity over large or streaming datasets.\n",
        "\n",
        "Role of Bokeh in Data Visualization:\n",
        "\n",
        "1. **Interactive Visualizations**: Bokeh creates interactive visualizations that allow users to hover over data points, zoom in and out, and pan across the plot.\n",
        "2. **Web-Based Visualizations**: Bokeh visualizations can be embedded in web pages, making it easy to share interactive visualizations with others.\n",
        "3. **High-Level Interface**: Bokeh provides a high-level interface for creating visualizations, making it easy to create complex plots with minimal code.\n",
        "4. **Customizable**: Bokeh is highly customizable, allowing users to tailor their visualizations to their specific needs.\n"
      ],
      "metadata": {
        "id": "iKGKC54Tikik"
      }
    },
    {
      "cell_type": "markdown",
      "source": [
        "# QUESTION 17 Explain the difference between apply() and map() in Pandas."
      ],
      "metadata": {
        "id": "Md8MnDv8ivms"
      }
    },
    {
      "cell_type": "markdown",
      "source": [
        "-> apply() and map() are two important functions in Pandas that can be used to perform operations on Series or DataFrame elements. While both functions can be used for similar purposes, there are key differences between them.\n",
        "\n",
        "**apply() Function**:\n",
        "\n",
        "- Apply a Function to Each Element: apply() applies a function to each element of a Series or DataFrame.\n",
        "- Flexible Function Application: apply() can apply any function, including lambda functions, user-defined functions, or built-in functions.\n",
        "- Row or Column Application: apply() can apply a function to each row or column of a DataFrame.\n",
        "\n",
        "**map() Function**:\n",
        "\n",
        "- Map Values to a Dictionary or Function: map() maps values of a Series to a dictionary or a function.\n",
        "- Element-Wise Operation: map() performs element-wise operations on a Series.\n",
        "- Limited to Series: map() is limited to Series and cannot be used directly on DataFrames"
      ],
      "metadata": {
        "id": "R2PDmcbgi2Bd"
      }
    },
    {
      "cell_type": "markdown",
      "source": [
        "# QUESTION 18 What are some advanced features of NumPy?"
      ],
      "metadata": {
        "id": "ke3kg3iHjMe6"
      }
    },
    {
      "cell_type": "markdown",
      "source": [
        "-> NumPy offers several advanced features that make it a powerful library for numerical computing in Python. Here are some of the key features:\n",
        "\n",
        "Advanced Array Operations\n",
        "\n",
        "- Broadcasting: Allows operations on arrays with different shapes and sizes by \"stretching\" the smaller array to match the larger one.\n",
        "- Vectorized Operations: Enables element-wise operations on arrays, making it faster and more efficient than using loops.\n",
        "- Universal Functions (ufuncs): Provides a range of functions for element-wise operations, including basic mathematical operations and trigonometric functions.\n",
        "\n",
        "Array Manipulation\n",
        "\n",
        "- Stacking Arrays: Use vstack() and hstack() to stack arrays vertically or horizontally.\n",
        "- Merging Arrays: Use concatenate() to merge arrays horizontally or vertically.\n",
        "- Splitting Arrays: Use split() to split arrays into multiple sub-arrays.\n",
        "\n",
        "Linear Algebra and Random Number Generation\n",
        "\n",
        "- Linear Algebra: NumPy includes a linear algebra library with functions for matrix multiplication, determinants, and eigenvalues.\n",
        "- Random Number Generation: Use numpy.random to generate random numbers, including integers, floats, and arrays.\n",
        "\n",
        "Data Analysis and Manipulation\n",
        "\n",
        "- Masked Arrays: Use masked arrays to ignore specific elements during operations.\n",
        "- Structured Arrays: Create arrays with structured data, allowing dictionary-like access to fields.\n",
        "- Fourier Transforms: Use numpy.fft to perform Fourier transforms and inverse Fourier transforms.\n",
        "\n",
        "Performance Optimization\n",
        "\n",
        "- Optimized Performance: NumPy is optimized for performance, making it suitable for large datasets and complex numerical computations.\n",
        "- Integration with Other Libraries: NumPy integrates well with other popular libraries, including Pandas, SciPy, and Matplotlib.¹"
      ],
      "metadata": {
        "id": "y_o5q-7ljfur"
      }
    },
    {
      "cell_type": "markdown",
      "source": [
        "# QUESTION 19  How does Pandas simplify time series analysis?"
      ],
      "metadata": {
        "id": "MKlJcs59jw9F"
      }
    },
    {
      "cell_type": "markdown",
      "source": [
        "-> Pandas is a powerful library for data analysis in Python, and it provides several features that simplify time series analysis. Here are some ways Pandas simplifies time series analysis:\n",
        "\n",
        "1. **Date and Time Handling**: Pandas provides robust date and time handling capabilities, including support for various date and time formats.\n",
        "2. **Time Series Data Structures**: Pandas introduces two primary data structures: Series (1-dimensional labeled array) and DataFrame (2-dimensional labeled data structure with columns of potentially different types). These data structures are ideal for representing time series data.\n",
        "3. **Time Series Indexing**: Pandas allows you to create a DateTimeIndex, which enables efficient and convenient indexing and slicing of time series data.\n",
        "4. **Resampling and Frequency Conversion**: Pandas provides methods for resampling time series data, such as converting from high-frequency to low-frequency data or vice versa.\n",
        "5. **Time Series Analysis Functions**: Pandas includes various functions for time series analysis, such as calculating moving averages, exponential smoothing, and more.\n"
      ],
      "metadata": {
        "id": "x-TvLJESj4fO"
      }
    },
    {
      "cell_type": "markdown",
      "source": [
        "# QUESTION 20 What is the role of a pivot table in Pandas?"
      ],
      "metadata": {
        "id": "0R5RMrf-kHK4"
      }
    },
    {
      "cell_type": "markdown",
      "source": [
        "-> A pivot table is a powerful data analysis tool in Pandas that allows you to summarize and analyze large datasets by creating a customized table. It helps to rotate data from rows to columns, making it easier to analyze and visualize.\n",
        "\n",
        "Role of Pivot Table in Pandas:\n",
        "\n",
        "1. **Data Summarization**: Pivot tables help to summarize large datasets by grouping data based on specific columns and applying aggregation functions.\n",
        "2. **Data Analysis**: Pivot tables enable data analysis by providing a flexible way to view and manipulate data.\n",
        "3. **Data Visualization**: Pivot tables can be used to create various visualizations, such as bar charts, line plots, and heatmaps, to gain insights into the data.\n"
      ],
      "metadata": {
        "id": "yRVWzcLokRMQ"
      }
    },
    {
      "cell_type": "markdown",
      "source": [
        "# QUESTION 21 A Why is NumPy’s array slicing faster than Python’s list slicing?"
      ],
      "metadata": {
        "id": "Pq-vSaLFkWmR"
      }
    },
    {
      "cell_type": "markdown",
      "source": [
        "-> NumPy's array slicing is faster than Python's list slicing due to several reasons:\n",
        "\n",
        "1.**Memory Layout**: NumPy arrays are stored in a contiguous block of memory, which allows for efficient access and manipulation of elements. In contrast, Python lists are stored as dynamic arrays, which can lead to slower performance.\n",
        "2. **Vectorized Operations**: NumPy arrays support vectorized operations, which enable operations to be performed on entire arrays at once. This eliminates the need for loops, making operations faster and more efficient.\n",
        "3. **Native Code**: NumPy is written in C, which is a lower-level language that can directly access hardware resources. This allows NumPy to optimize array operations and take advantage of CPU capabilities, resulting in faster performance.\n",
        "4. **Less Overhead**: NumPy arrays have less overhead compared to Python lists. NumPy arrays do not require the same level of dynamic typing and memory management as Python lists, which reduces overhead and improves performance.\n"
      ],
      "metadata": {
        "id": "pmnASPLMkbdb"
      }
    },
    {
      "cell_type": "markdown",
      "source": [
        "# QUESTION 22  What are some common use cases for Seaborn?"
      ],
      "metadata": {
        "id": "26t9Ob-KkomV"
      }
    },
    {
      "cell_type": "markdown",
      "source": [
        "-> Seaborn is a powerful data visualization library in Python that offers a range of visualization tools for statistical graphics. Here are some common use cases for Seaborn:\n",
        "\n",
        "1. **Data Exploration**: Seaborn is useful for exploring and understanding the distribution of data, including histograms, box plots, and violin plots.\n",
        "2. **Relationship Visualization**: Seaborn provides tools for visualizing relationships between variables, including scatter plots, joint plots, and pair plots.\n",
        "3. **Categorical Data Visualization**: Seaborn offers various tools for visualizing categorical data, including bar plots, count plots, and box plots.\n",
        "4. **Regression Analysis**: Seaborn provides tools for visualizing regression analysis, including scatter plots with regression lines.\n",
        "5. **Heatmap Visualization**: Seaborn's heatmap function is useful for visualizing matrix data, such as correlation matrices.\n"
      ],
      "metadata": {
        "id": "xSAb1BGSkvXF"
      }
    },
    {
      "cell_type": "markdown",
      "source": [
        "# DATA TOOLKIT{PRACTICAL}"
      ],
      "metadata": {
        "id": "ctXhwV-lk8WH"
      }
    },
    {
      "cell_type": "markdown",
      "source": [
        "# QUESTION 1 How do you create a 2D NumPy array and calculate the sum of each row?"
      ],
      "metadata": {
        "id": "VqH30y0clESg"
      }
    },
    {
      "cell_type": "code",
      "source": [
        "import numpy as np\n",
        "\n",
        "# Create a 2D NumPy array\n",
        "array_2d = np.array([[1, 2, 3],\n",
        "                     [4, 5, 6],\n",
        "                     [7, 8, 9]])\n",
        "\n",
        "# Calculate the sum of each row\n",
        "row_sums = np.sum(array_2d, axis=1)\n",
        "\n",
        "print(\"2D Array:\")\n",
        "print(array_2d)\n",
        "print(\"Sum of each row:\", row_sums)\n"
      ],
      "metadata": {
        "colab": {
          "base_uri": "https://localhost:8080/"
        },
        "id": "GKhRN_j_lRRp",
        "outputId": "e2d1c8ac-5150-42fb-c23f-944427ed7a8b"
      },
      "execution_count": null,
      "outputs": [
        {
          "output_type": "stream",
          "name": "stdout",
          "text": [
            "2D Array:\n",
            "[[1 2 3]\n",
            " [4 5 6]\n",
            " [7 8 9]]\n",
            "Sum of each row: [ 6 15 24]\n"
          ]
        }
      ]
    },
    {
      "cell_type": "markdown",
      "source": [
        "# QUESTION 2 Write a Pandas script to find the mean of a specific column in a DataFrame."
      ],
      "metadata": {
        "id": "o4tL9wXhlV9T"
      }
    },
    {
      "cell_type": "code",
      "source": [
        "import pandas as pd\n",
        "\n",
        "# Create a sample DataFrame\n",
        "data = {\n",
        "    'A': [1, 2, 3, 4, 5],\n",
        "    'B': [10, 20, 30, 40, 50],\n",
        "    'C': [100, 200, 300, 400, 500]\n",
        "}\n",
        "\n",
        "df = pd.DataFrame(data)\n",
        "\n",
        "# Calculate the mean of column 'B'\n",
        "mean_B = df['B'].mean()\n",
        "\n",
        "print(\"DataFrame:\")\n",
        "print(df)\n",
        "print(\"Mean of column 'B':\", mean_B)\n"
      ],
      "metadata": {
        "colab": {
          "base_uri": "https://localhost:8080/"
        },
        "id": "_sBmWALala-D",
        "outputId": "83325ee0-e9ca-4373-ece9-dacb7cb6f8b7"
      },
      "execution_count": null,
      "outputs": [
        {
          "output_type": "stream",
          "name": "stdout",
          "text": [
            "DataFrame:\n",
            "   A   B    C\n",
            "0  1  10  100\n",
            "1  2  20  200\n",
            "2  3  30  300\n",
            "3  4  40  400\n",
            "4  5  50  500\n",
            "Mean of column 'B': 30.0\n"
          ]
        }
      ]
    },
    {
      "cell_type": "markdown",
      "source": [
        "# QUESTION 3 Create a scatter plot using Matplotlib."
      ],
      "metadata": {
        "id": "rmzxeN2Hlhgm"
      }
    },
    {
      "cell_type": "code",
      "source": [
        "import matplotlib.pyplot as plt\n",
        "\n",
        "x = [1, 2, 3, 4]\n",
        "y = [10, 20, 25, 30]\n",
        "plt.scatter(x, y)\n",
        "plt.title(\"Scatter Plot\")\n",
        "plt.xlabel(\"X-axis\")\n",
        "plt.ylabel(\"Y-axis\")\n",
        "plt.show()"
      ],
      "metadata": {
        "colab": {
          "base_uri": "https://localhost:8080/",
          "height": 472
        },
        "id": "V5-ZZR_blmTW",
        "outputId": "2223491c-ccd3-46b5-f625-2d72d5b7ad6a"
      },
      "execution_count": null,
      "outputs": [
        {
          "output_type": "display_data",
          "data": {
            "text/plain": [
              "<Figure size 640x480 with 1 Axes>"
            ],
            "image/png": "[encoded data removed]"
          },
          "metadata": {}
        }
      ]
    },
    {
      "cell_type": "markdown",
      "source": [
        "# QUESTION 4 How do you calculate the correlation matrix using Seaborn and visualize it with a heatmap?"
      ],
      "metadata": {
        "id": "75b0Fi6Aqf9h"
      }
    },
    {
      "cell_type": "code",
      "source": [
        "import seaborn as sns\n",
        "import matplotlib.pyplot as plt\n",
        "import pandas as pd\n",
        "import numpy as np\n",
        "\n",
        "# Create a sample dataset\n",
        "np.random.seed(0)\n",
        "data = {\n",
        "    'A': np.random.rand(100),\n",
        "    'B': np.random.rand(100),\n",
        "    'C': np.random.rand(100),\n",
        "    'D': np.random.rand(100)\n",
        "}\n",
        "df = pd.DataFrame(data)\n",
        "\n",
        "# Calculate the correlation matrix\n",
        "corr_matrix = df.corr()\n",
        "\n",
        "# Create a heatmap\n",
        "plt.figure(figsize=(8, 6))\n",
        "sns.heatmap(corr_matrix, annot=True, cmap='coolwarm', square=True)\n",
        "\n",
        "# Add title\n",
        "plt.title('Correlation Matrix Heatmap')\n",
        "\n",
        "# Show the plot\n"
      ],
      "metadata": {
        "colab": {
          "base_uri": "https://localhost:8080/",
          "height": 562
        },
        "id": "1Zg3-pHYqz5k",
        "outputId": "63f4e6af-b4e9-407b-f6aa-1b48f4332a7d"
      },
      "execution_count": null,
      "outputs": [
        {
          "output_type": "execute_result",
          "data": {
            "text/plain": [
              "Text(0.5, 1.0, 'Correlation Matrix Heatmap')"
            ]
          },
          "metadata": {},
          "execution_count": 4
        },
        {
          "output_type": "display_data",
          "data": {
            "text/plain": [
              "<Figure size 800x600 with 2 Axes>"
            ],
            "image/png": "[encoded data removed]"
          },
          "metadata": {}
        }
      ]
    },
    {
      "cell_type": "markdown",
      "source": [
        "# QUESTION 5 Generate a bar plot using Plotly."
      ],
      "metadata": {
        "id": "K7RzOceRq3SU"
      }
    },
    {
      "cell_type": "code",
      "source": [
        "import plotly.express as px\n",
        "import pandas as pd\n",
        "\n",
        "# Create a sample dataset\n",
        "data = {\n",
        "    'Category': ['A', 'B', 'C', 'D', 'E'],\n",
        "    'Value': [10, 15, 7, 12, 20]\n",
        "}\n",
        "df = pd.DataFrame(data)\n",
        "\n",
        "# Create a bar plot\n",
        "fig = px.bar(df, x='Category', y='Value', title='Bar Plot Example')\n",
        "\n",
        "# Show the plot\n",
        "fig.show()\n"
      ],
      "metadata": {
        "colab": {
          "base_uri": "https://localhost:8080/",
          "height": 542
        },
        "id": "-AamNOq5rkAZ",
        "outputId": "0311a315-e1df-4d49-f865-ea65bc7150ac"
      },
      "execution_count": null,
      "outputs": [
        {
          "output_type": "display_data",
          "data": {
            "text/html": [
              "<html>\n",
              "<head><meta charset=\"utf-8\" /></head>\n",
              "<body>\n",
              "    <div>            <script src=\"https://cdnjs.cloudflare.com/ajax/libs/mathjax/2.7.5/MathJax.js?config=TeX-AMS-MML_SVG\"></script><script type=\"text/javascript\">if (window.MathJax && window.MathJax.Hub && window.MathJax.Hub.Config) {window.MathJax.Hub.Config({SVG: {font: \"STIX-Web\"}});}</script>                <script type=\"text/javascript\">window.PlotlyConfig = {MathJaxConfig: 'local'};</script>\n",
              "        <script charset=\"utf-8\" src=\"https://cdn.plot.ly/plotly-2.35.2.min.js\"></script>                <div id=\"1f6daa0b-aae8-41d0-8939-81ea47d79ceb\" class=\"plotly-graph-div\" style=\"height:525px; width:100%;\"></div>            <script type=\"text/javascript\">                                    window.PLOTLYENV=window.PLOTLYENV || {};                                    if (document.getElementById(\"1f6daa0b-aae8-41d0-8939-81ea47d79ceb\")) {                    Plotly.newPlot(                        \"1f6daa0b-aae8-41d0-8939-81ea47d79ceb\",                        [{\"alignmentgroup\":\"True\",\"hovertemplate\":\"Category=%{x}\\u003cbr\\u003eValue=%{y}\\u003cextra\\u003e\\u003c\\u002fextra\\u003e\",\"legendgroup\":\"\",\"marker\":{\"color\":\"#636efa\",\"pattern\":{\"shape\":\"\"}},\"name\":\"\",\"offsetgroup\":\"\",\"orientation\":\"v\",\"showlegend\":false,\"textposition\":\"auto\",\"x\":[\"A\",\"B\",\"C\",\"D\",\"E\"],\"xaxis\":\"x\",\"y\":[10,15,7,12,20],\"yaxis\":\"y\",\"type\":\"bar\"}],                        {\"template\":{\"data\":{\"histogram2dcontour\":[{\"type\":\"histogram2dcontour\",\"colorbar\":{\"outlinewidth\":0,\"ticks\":\"\"},\"colorscale\":[[0.0,\"#0d0887\"],[0.1111111111111111,\"#46039f\"],[0.2222222222222222,\"#7201a8\"],[0.3333333333333333,\"#9c179e\"],[0.4444444444444444,\"#bd3786\"],[0.5555555555555556,\"#d8576b\"],[0.6666666666666666,\"#ed7953\"],[0.7777777777777778,\"#fb9f3a\"],[0.8888888888888888,\"#fdca26\"],[1.0,\"#f0f921\"]]}],\"choropleth\":[{\"type\":\"choropleth\",\"colorbar\":{\"outlinewidth\":0,\"ticks\":\"\"}}],\"histogram2d\":[{\"type\":\"histogram2d\",\"colorbar\":{\"outlinewidth\":0,\"ticks\":\"\"},\"colorscale\":[[0.0,\"#0d0887\"],[0.1111111111111111,\"#46039f\"],[0.2222222222222222,\"#7201a8\"],[0.3333333333333333,\"#9c179e\"],[0.4444444444444444,\"#bd3786\"],[0.5555555555555556,\"#d8576b\"],[0.6666666666666666,\"#ed7953\"],[0.7777777777777778,\"#fb9f3a\"],[0.8888888888888888,\"#fdca26\"],[1.0,\"#f0f921\"]]}],\"heatmap\":[{\"type\":\"heatmap\",\"colorbar\":{\"outlinewidth\":0,\"ticks\":\"\"},\"colorscale\":[[0.0,\"#0d0887\"],[0.1111111111111111,\"#46039f\"],[0.2222222222222222,\"#7201a8\"],[0.3333333333333333,\"#9c179e\"],[0.4444444444444444,\"#bd3786\"],[0.5555555555555556,\"#d8576b\"],[0.6666666666666666,\"#ed7953\"],[0.7777777777777778,\"#fb9f3a\"],[0.8888888888888888,\"#fdca26\"],[1.0,\"#f0f921\"]]}],\"heatmapgl\":[{\"type\":\"heatmapgl\",\"colorbar\":{\"outlinewidth\":0,\"ticks\":\"\"},\"colorscale\":[[0.0,\"#0d0887\"],[0.1111111111111111,\"#46039f\"],[0.2222222222222222,\"#7201a8\"],[0.3333333333333333,\"#9c179e\"],[0.4444444444444444,\"#bd3786\"],[0.5555555555555556,\"#d8576b\"],[0.6666666666666666,\"#ed7953\"],[0.7777777777777778,\"#fb9f3a\"],[0.8888888888888888,\"#fdca26\"],[1.0,\"#f0f921\"]]}],\"contourcarpet\":[{\"type\":\"contourcarpet\",\"colorbar\":{\"outlinewidth\":0,\"ticks\":\"\"}}],\"contour\":[{\"type\":\"contour\",\"colorbar\":{\"outlinewidth\":0,\"ticks\":\"\"},\"colorscale\":[[0.0,\"#0d0887\"],[0.1111111111111111,\"#46039f\"],[0.2222222222222222,\"#7201a8\"],[0.3333333333333333,\"#9c179e\"],[0.4444444444444444,\"#bd3786\"],[0.5555555555555556,\"#d8576b\"],[0.6666666666666666,\"#ed7953\"],[0.7777777777777778,\"#fb9f3a\"],[0.8888888888888888,\"#fdca26\"],[1.0,\"#f0f921\"]]}],\"surface\":[{\"type\":\"surface\",\"colorbar\":{\"outlinewidth\":0,\"ticks\":\"\"},\"colorscale\":[[0.0,\"#0d0887\"],[0.1111111111111111,\"#46039f\"],[0.2222222222222222,\"#7201a8\"],[0.3333333333333333,\"#9c179e\"],[0.4444444444444444,\"#bd3786\"],[0.5555555555555556,\"#d8576b\"],[0.6666666666666666,\"#ed7953\"],[0.7777777777777778,\"#fb9f3a\"],[0.8888888888888888,\"#fdca26\"],[1.0,\"#f0f921\"]]}],\"mesh3d\":[{\"type\":\"mesh3d\",\"colorbar\":{\"outlinewidth\":0,\"ticks\":\"\"}}],\"scatter\":[{\"fillpattern\":{\"fillmode\":\"overlay\",\"size\":10,\"solidity\":0.2},\"type\":\"scatter\"}],\"parcoords\":[{\"type\":\"parcoords\",\"line\":{\"colorbar\":{\"outlinewidth\":0,\"ticks\":\"\"}}}],\"scatterpolargl\":[{\"type\":\"scatterpolargl\",\"marker\":{\"colorbar\":{\"outlinewidth\":0,\"ticks\":\"\"}}}],\"bar\":[{\"error_x\":{\"color\":\"#2a3f5f\"},\"error_y\":{\"color\":\"#2a3f5f\"},\"marker\":{\"line\":{\"color\":\"#E5ECF6\",\"width\":0.5},\"pattern\":{\"fillmode\":\"overlay\",\"size\":10,\"solidity\":0.2}},\"type\":\"bar\"}],\"scattergeo\":[{\"type\":\"scattergeo\",\"marker\":{\"colorbar\":{\"outlinewidth\":0,\"ticks\":\"\"}}}],\"scatterpolar\":[{\"type\":\"scatterpolar\",\"marker\":{\"colorbar\":{\"outlinewidth\":0,\"ticks\":\"\"}}}],\"histogram\":[{\"marker\":{\"pattern\":{\"fillmode\":\"overlay\",\"size\":10,\"solidity\":0.2}},\"type\":\"histogram\"}],\"scattergl\":[{\"type\":\"scattergl\",\"marker\":{\"colorbar\":{\"outlinewidth\":0,\"ticks\":\"\"}}}],\"scatter3d\":[{\"type\":\"scatter3d\",\"line\":{\"colorbar\":{\"outlinewidth\":0,\"ticks\":\"\"}},\"marker\":{\"colorbar\":{\"outlinewidth\":0,\"ticks\":\"\"}}}],\"scattermapbox\":[{\"type\":\"scattermapbox\",\"marker\":{\"colorbar\":{\"outlinewidth\":0,\"ticks\":\"\"}}}],\"scatterternary\":[{\"type\":\"scatterternary\",\"marker\":{\"colorbar\":{\"outlinewidth\":0,\"ticks\":\"\"}}}],\"scattercarpet\":[{\"type\":\"scattercarpet\",\"marker\":{\"colorbar\":{\"outlinewidth\":0,\"ticks\":\"\"}}}],\"carpet\":[{\"aaxis\":{\"endlinecolor\":\"#2a3f5f\",\"gridcolor\":\"white\",\"linecolor\":\"white\",\"minorgridcolor\":\"white\",\"startlinecolor\":\"#2a3f5f\"},\"baxis\":{\"endlinecolor\":\"#2a3f5f\",\"gridcolor\":\"white\",\"linecolor\":\"white\",\"minorgridcolor\":\"white\",\"startlinecolor\":\"#2a3f5f\"},\"type\":\"carpet\"}],\"table\":[{\"cells\":{\"fill\":{\"color\":\"#EBF0F8\"},\"line\":{\"color\":\"white\"}},\"header\":{\"fill\":{\"color\":\"#C8D4E3\"},\"line\":{\"color\":\"white\"}},\"type\":\"table\"}],\"barpolar\":[{\"marker\":{\"line\":{\"color\":\"#E5ECF6\",\"width\":0.5},\"pattern\":{\"fillmode\":\"overlay\",\"size\":10,\"solidity\":0.2}},\"type\":\"barpolar\"}],\"pie\":[{\"automargin\":true,\"type\":\"pie\"}]},\"layout\":{\"autotypenumbers\":\"strict\",\"colorway\":[\"#636efa\",\"#EF553B\",\"#00cc96\",\"#ab63fa\",\"#FFA15A\",\"#19d3f3\",\"#FF6692\",\"#B6E880\",\"#FF97FF\",\"#FECB52\"],\"font\":{\"color\":\"#2a3f5f\"},\"hovermode\":\"closest\",\"hoverlabel\":{\"align\":\"left\"},\"paper_bgcolor\":\"white\",\"plot_bgcolor\":\"#E5ECF6\",\"polar\":{\"bgcolor\":\"#E5ECF6\",\"angularaxis\":{\"gridcolor\":\"white\",\"linecolor\":\"white\",\"ticks\":\"\"},\"radialaxis\":{\"gridcolor\":\"white\",\"linecolor\":\"white\",\"ticks\":\"\"}},\"ternary\":{\"bgcolor\":\"#E5ECF6\",\"aaxis\":{\"gridcolor\":\"white\",\"linecolor\":\"white\",\"ticks\":\"\"},\"baxis\":{\"gridcolor\":\"white\",\"linecolor\":\"white\",\"ticks\":\"\"},\"caxis\":{\"gridcolor\":\"white\",\"linecolor\":\"white\",\"ticks\":\"\"}},\"coloraxis\":{\"colorbar\":{\"outlinewidth\":0,\"ticks\":\"\"}},\"colorscale\":{\"sequential\":[[0.0,\"#0d0887\"],[0.1111111111111111,\"#46039f\"],[0.2222222222222222,\"#7201a8\"],[0.3333333333333333,\"#9c179e\"],[0.4444444444444444,\"#bd3786\"],[0.5555555555555556,\"#d8576b\"],[0.6666666666666666,\"#ed7953\"],[0.7777777777777778,\"#fb9f3a\"],[0.8888888888888888,\"#fdca26\"],[1.0,\"#f0f921\"]],\"sequentialminus\":[[0.0,\"#0d0887\"],[0.1111111111111111,\"#46039f\"],[0.2222222222222222,\"#7201a8\"],[0.3333333333333333,\"#9c179e\"],[0.4444444444444444,\"#bd3786\"],[0.5555555555555556,\"#d8576b\"],[0.6666666666666666,\"#ed7953\"],[0.7777777777777778,\"#fb9f3a\"],[0.8888888888888888,\"#fdca26\"],[1.0,\"#f0f921\"]],\"diverging\":[[0,\"#8e0152\"],[0.1,\"#c51b7d\"],[0.2,\"#de77ae\"],[0.3,\"#f1b6da\"],[0.4,\"#fde0ef\"],[0.5,\"#f7f7f7\"],[0.6,\"#e6f5d0\"],[0.7,\"#b8e186\"],[0.8,\"#7fbc41\"],[0.9,\"#4d9221\"],[1,\"#276419\"]]},\"xaxis\":{\"gridcolor\":\"white\",\"linecolor\":\"white\",\"ticks\":\"\",\"title\":{\"standoff\":15},\"zerolinecolor\":\"white\",\"automargin\":true,\"zerolinewidth\":2},\"yaxis\":{\"gridcolor\":\"white\",\"linecolor\":\"white\",\"ticks\":\"\",\"title\":{\"standoff\":15},\"zerolinecolor\":\"white\",\"automargin\":true,\"zerolinewidth\":2},\"scene\":{\"xaxis\":{\"backgroundcolor\":\"#E5ECF6\",\"gridcolor\":\"white\",\"linecolor\":\"white\",\"showbackground\":true,\"ticks\":\"\",\"zerolinecolor\":\"white\",\"gridwidth\":2},\"yaxis\":{\"backgroundcolor\":\"#E5ECF6\",\"gridcolor\":\"white\",\"linecolor\":\"white\",\"showbackground\":true,\"ticks\":\"\",\"zerolinecolor\":\"white\",\"gridwidth\":2},\"zaxis\":{\"backgroundcolor\":\"#E5ECF6\",\"gridcolor\":\"white\",\"linecolor\":\"white\",\"showbackground\":true,\"ticks\":\"\",\"zerolinecolor\":\"white\",\"gridwidth\":2}},\"shapedefaults\":{\"line\":{\"color\":\"#2a3f5f\"}},\"annotationdefaults\":{\"arrowcolor\":\"#2a3f5f\",\"arrowhead\":0,\"arrowwidth\":1},\"geo\":{\"bgcolor\":\"white\",\"landcolor\":\"#E5ECF6\",\"subunitcolor\":\"white\",\"showland\":true,\"showlakes\":true,\"lakecolor\":\"white\"},\"title\":{\"x\":0.05},\"mapbox\":{\"style\":\"light\"}}},\"xaxis\":{\"anchor\":\"y\",\"domain\":[0.0,1.0],\"title\":{\"text\":\"Category\"}},\"yaxis\":{\"anchor\":\"x\",\"domain\":[0.0,1.0],\"title\":{\"text\":\"Value\"}},\"legend\":{\"tracegroupgap\":0},\"title\":{\"text\":\"Bar Plot Example\"},\"barmode\":\"relative\"},                        {\"responsive\": true}                    ).then(function(){\n",
              "                            \n",
              "var gd = document.getElementById('1f6daa0b-aae8-41d0-8939-81ea47d79ceb');\n",
              "var x = new MutationObserver(function (mutations, observer) {{\n",
              "        var display = window.getComputedStyle(gd).display;\n",
              "        if (!display || display === 'none') {{\n",
              "            console.log([gd, 'removed!']);\n",
              "            Plotly.purge(gd);\n",
              "            observer.disconnect();\n",
              "        }}\n",
              "}});\n",
              "\n",
              "// Listen for the removal of the full notebook cells\n",
              "var notebookContainer = gd.closest('#notebook-container');\n",
              "if (notebookContainer) {{\n",
              "    x.observe(notebookContainer, {childList: true});\n",
              "}}\n",
              "\n",
              "// Listen for the clearing of the current output cell\n",
              "var outputEl = gd.closest('.output');\n",
              "if (outputEl) {{\n",
              "    x.observe(outputEl, {childList: true});\n",
              "}}\n",
              "\n",
              "                        })                };                            </script>        </div>\n",
              "</body>\n",
              "</html>"
            ]
          },
          "metadata": {}
        }
      ]
    },
    {
      "cell_type": "markdown",
      "source": [
        "# QUESTION 6 Create a DataFrame and add a new column based on an existing column."
      ],
      "metadata": {
        "id": "3I-M9hIxrshy"
      }
    },
    {
      "cell_type": "code",
      "source": [
        "import pandas as pd\n",
        "\n",
        "# Create a sample DataFrame\n",
        "data = {\n",
        "    'A': [1, 2, 3, 4, 5],\n",
        "    'B': [10, 20, 30, 40, 50]\n",
        "}\n",
        "\n",
        "df = pd.DataFrame(data)\n",
        "\n",
        "# Display the original DataFrame\n",
        "print(\"Original DataFrame:\")\n",
        "print(df)\n",
        "\n",
        "# Add a new column 'C' that is double the values of column 'B'\n",
        "df['C'] = df['B'] * 2\n",
        "\n",
        "# Display the updated DataFrame\n",
        "print(\"\\nUpdated DataFrame with new column 'C':\")\n",
        "print(df)\n"
      ],
      "metadata": {
        "colab": {
          "base_uri": "https://localhost:8080/"
        },
        "id": "7dY_nfUMr5A0",
        "outputId": "e3c6e2ad-f4e4-4d49-824e-f98f6784bf6c"
      },
      "execution_count": null,
      "outputs": [
        {
          "output_type": "stream",
          "name": "stdout",
          "text": [
            "Original DataFrame:\n",
            "   A   B\n",
            "0  1  10\n",
            "1  2  20\n",
            "2  3  30\n",
            "3  4  40\n",
            "4  5  50\n",
            "\n",
            "Updated DataFrame with new column 'C':\n",
            "   A   B    C\n",
            "0  1  10   20\n",
            "1  2  20   40\n",
            "2  3  30   60\n",
            "3  4  40   80\n",
            "4  5  50  100\n"
          ]
        }
      ]
    },
    {
      "cell_type": "markdown",
      "source": [
        "# QUESSTION 7 Write a program to perform element-wise multiplication of two NumPy arrays."
      ],
      "metadata": {
        "id": "5Jaua-rQsFv-"
      }
    },
    {
      "cell_type": "code",
      "source": [
        "import numpy as np\n",
        "\n",
        "# Create two sample NumPy arrays\n",
        "array1 = np.array([1, 2, 3, 4, 5])\n",
        "array2 = np.array([6, 7, 8, 9, 10])\n",
        "\n",
        "# Perform element-wise multiplication\n",
        "result = np.multiply(array1, array2)\n",
        "\n",
        "# Print the result\n",
        "print(\"Array 1:\", array1)\n",
        "print(\"Array 2:\", array2)\n",
        "print(\"Result:\", result)\n",
        "\n"
      ],
      "metadata": {
        "colab": {
          "base_uri": "https://localhost:8080/"
        },
        "id": "kk9tX9ypsLpv",
        "outputId": "a3e4af93-4ac0-4f4c-8058-e9603bd4b7ec"
      },
      "execution_count": null,
      "outputs": [
        {
          "output_type": "stream",
          "name": "stdout",
          "text": [
            "Array 1: [1 2 3 4 5]\n",
            "Array 2: [ 6  7  8  9 10]\n",
            "Result: [ 6 14 24 36 50]\n"
          ]
        }
      ]
    },
    {
      "cell_type": "markdown",
      "source": [
        "#QUESTION 8 Create a line plot with multiple lines using Matplotlib."
      ],
      "metadata": {
        "id": "AFU8CWa7sX-A"
      }
    },
    {
      "cell_type": "code",
      "source": [
        "import matplotlib.pyplot as plt\n",
        "import numpy as np\n",
        "\n",
        "# Create a sample dataset\n",
        "x = np.linspace(0, 10, 100)\n",
        "\n",
        "y1 = np.sin(x)\n",
        "y2 = np.cos(x)\n",
        "y3 = np.sin(2 * x)\n",
        "\n",
        "# Create a line plot with multiple lines\n",
        "plt.figure(figsize=(8, 6))\n",
        "plt.plot(x, y1, label='Sine', color='blue')\n",
        "plt.plot(x, y2, label='Cosine', color='red')\n",
        "plt.plot(x, y3, label='Sine 2x', color='green')\n",
        "\n",
        "# Add title and labels\n",
        "plt.title('Line Plot with Multiple Lines')\n",
        "plt.xlabel('X-axis')\n",
        "plt.ylabel('Y-axis')\n",
        "\n",
        "# Add legend\n",
        "plt.legend()\n",
        "\n",
        "# Show the plot\n",
        "plt.show()\n"
      ],
      "metadata": {
        "colab": {
          "base_uri": "https://localhost:8080/",
          "height": 564
        },
        "id": "7r9bf4EysjBa",
        "outputId": "89e99970-5b87-4521-ee2c-47844c383f32"
      },
      "execution_count": null,
      "outputs": [
        {
          "output_type": "display_data",
          "data": {
            "text/plain": [
              "<Figure size 800x600 with 1 Axes>"
            ],
            "image/png": "[encoded data removed]"
          },
          "metadata": {}
        }
      ]
    },
    {
      "cell_type": "markdown",
      "source": [
        "# QUESTION 9 Generate a Pandas DataFrame and filter rows where a column value is greater than a threshold."
      ],
      "metadata": {
        "id": "DbK1vxFbsxvk"
      }
    },
    {
      "cell_type": "code",
      "source": [
        "import pandas as pd\n",
        "\n",
        "# Create a sample DataFrame\n",
        "data = {\n",
        "    'A': [1, 2, 3, 4, 5],\n",
        "    'B': [10, 20, 30, 40, 50],\n",
        "    'C': [100, 200, 300, 400, 500]\n",
        "}\n",
        "\n",
        "df = pd.DataFrame(data)\n",
        "\n",
        "# Display the original DataFrame\n",
        "print(\"Original DataFrame:\")\n",
        "print(df)\n",
        "\n",
        "# Define the threshold\n",
        "threshold = 25\n",
        "\n",
        "# Filter rows where column 'B' is greater than the threshold\n",
        "filtered_df = df[df['B'] > threshold]\n",
        "\n",
        "# Display the filtered DataFrame\n",
        "print(\"\\nFiltered DataFrame (B > {}):\".format(threshold))\n",
        "print(filtered_df)\n"
      ],
      "metadata": {
        "colab": {
          "base_uri": "https://localhost:8080/"
        },
        "id": "oQ9nv85Bs228",
        "outputId": "bdec6865-b81d-4c31-cec1-69538ee69c8f"
      },
      "execution_count": null,
      "outputs": [
        {
          "output_type": "stream",
          "name": "stdout",
          "text": [
            "Original DataFrame:\n",
            "   A   B    C\n",
            "0  1  10  100\n",
            "1  2  20  200\n",
            "2  3  30  300\n",
            "3  4  40  400\n",
            "4  5  50  500\n",
            "\n",
            "Filtered DataFrame (B > 25):\n",
            "   A   B    C\n",
            "2  3  30  300\n",
            "3  4  40  400\n",
            "4  5  50  500\n"
          ]
        }
      ]
    },
    {
      "cell_type": "markdown",
      "source": [
        "# QUESTION 10 Create a histogram using Seaborn to visualize a distribution."
      ],
      "metadata": {
        "id": "AtANs5oltGX-"
      }
    },
    {
      "cell_type": "code",
      "source": [
        "import seaborn as sns\n",
        "import matplotlib.pyplot as plt\n",
        "import numpy as np\n",
        "\n",
        "# Generate a sample dataset\n",
        "np.random.seed(0)\n",
        "data = np.random.randn(1000)\n",
        "\n",
        "# Create a histogram\n",
        "plt.figure(figsize=(8, 6))\n",
        "sns.histplot(data, bins=30, kde=True)\n",
        "\n",
        "# Add title and labels\n",
        "plt.title('Histogram of Random Data')\n",
        "plt.xlabel('Value')\n",
        "plt.ylabel('Frequency')\n",
        "\n",
        "# Show the plot\n",
        "plt.show()\n"
      ],
      "metadata": {
        "colab": {
          "base_uri": "https://localhost:8080/",
          "height": 564
        },
        "id": "S-gY5iLRtMWg",
        "outputId": "2870eca9-7131-4f8b-f10f-329bcc3e2442"
      },
      "execution_count": null,
      "outputs": [
        {
          "output_type": "display_data",
          "data": {
            "text/plain": [
              "<Figure size 800x600 with 1 Axes>"
            ],
            "image/png": "[encoded data removed]"
          },
          "metadata": {}
        }
      ]
    },
    {
      "cell_type": "markdown",
      "source": [
        "# QUESTION 11  Perform matrix multiplication using NumPy."
      ],
      "metadata": {
        "id": "ShyDL2EStZyp"
      }
    },
    {
      "cell_type": "code",
      "source": [
        "import numpy as np\n",
        "\n",
        "# Create two sample matrices\n",
        "matrix1 = np.array([[1, 2], [3, 4]])\n",
        "matrix2 = np.array([[5, 6], [7, 8]])\n",
        "\n",
        "# Perform matrix multiplication\n",
        "result = np.matmul(matrix1, matrix2)\n",
        "\n",
        "# Print the result\n",
        "print(\"Matrix 1:\")\n",
        "print(matrix1)\n",
        "print(\"\\nMatrix 2:\")\n",
        "print(matrix2)\n",
        "print(\"\\nResult:\")\n",
        "print(result)\n",
        "\n"
      ],
      "metadata": {
        "colab": {
          "base_uri": "https://localhost:8080/"
        },
        "id": "6GHX3SSNtj6z",
        "outputId": "cdf03184-434d-4cca-c33c-5d7459fa0b8f"
      },
      "execution_count": null,
      "outputs": [
        {
          "output_type": "stream",
          "name": "stdout",
          "text": [
            "Matrix 1:\n",
            "[[1 2]\n",
            " [3 4]]\n",
            "\n",
            "Matrix 2:\n",
            "[[5 6]\n",
            " [7 8]]\n",
            "\n",
            "Result:\n",
            "[[19 22]\n",
            " [43 50]]\n"
          ]
        }
      ]
    },
    {
      "cell_type": "markdown",
      "source": [
        "# QUESTION 12 Use Pandas to load a CSV file and display its first 5 rows."
      ],
      "metadata": {
        "id": "U1a0ji6wtws0"
      }
    },
    {
      "cell_type": "code",
      "source": [
        "# Create a dummy data.csv file for testing\n",
        "dummy_data = {'col1': [1, 2, 3, 4, 5], 'col2': [6, 7, 8, 9, 10]}\n",
        "dummy_df = pd.DataFrame(dummy_data)\n",
        "dummy_df.to_csv('data.csv', index=False)\n",
        "\n",
        "print(\"Created a dummy 'data.csv' file.\")"
      ],
      "metadata": {
        "colab": {
          "base_uri": "https://localhost:8080/"
        },
        "id": "44QDPUiEuCF3",
        "outputId": "0cf48020-16af-4c98-a1dd-2bd142f165e2"
      },
      "execution_count": null,
      "outputs": [
        {
          "output_type": "stream",
          "name": "stdout",
          "text": [
            "Created a dummy 'data.csv' file.\n"
          ]
        }
      ]
    },
    {
      "cell_type": "markdown",
      "source": [
        "# QUESTION 13 Create a 3D scatter plot using Plotly."
      ],
      "metadata": {
        "id": "aLPqKu_CuRX4"
      }
    },
    {
      "cell_type": "code",
      "source": [
        "import plotly.express as px\n",
        "import pandas as pd\n",
        "import numpy as np\n",
        "\n",
        "# Generate a sample dataset\n",
        "np.random.seed(0)\n",
        "x = np.random.randn(100)\n",
        "y = np.random.randn(100)\n",
        "z = np.random.randn(100)\n",
        "\n",
        "df = pd.DataFrame({\n",
        "    'x': x,\n",
        "    'y': y,\n",
        "    'z': z\n",
        "})\n",
        "\n",
        "# Create a 3D scatter plot\n",
        "fig = px.scatter_3d(df, x='x', y='y', z='z')\n",
        "\n",
        "# Show the plot\n",
        "fig.show()\n"
      ],
      "metadata": {
        "colab": {
          "base_uri": "https://localhost:8080/",
          "height": 542
        },
        "id": "H8eL7ymDuea9",
        "outputId": "dad207dd-9761-43b1-f55e-43cd0a76a686"
      },
      "execution_count": 21,
      "outputs": [
        {
          "output_type": "display_data",
          "data": {
            "text/html": [
              "<html>\n",
              "<head><meta charset=\"utf-8\" /></head>\n",
              "<body>\n",
              "    <div>            <script src=\"https://cdnjs.cloudflare.com/ajax/libs/mathjax/2.7.5/MathJax.js?config=TeX-AMS-MML_SVG\"></script><script type=\"text/javascript\">if (window.MathJax && window.MathJax.Hub && window.MathJax.Hub.Config) {window.MathJax.Hub.Config({SVG: {font: \"STIX-Web\"}});}</script>                <script type=\"text/javascript\">window.PlotlyConfig = {MathJaxConfig: 'local'};</script>\n",
              "        <script charset=\"utf-8\" src=\"https://cdn.plot.ly/plotly-2.35.2.min.js\"></script>                <div id=\"363192fa-c0a4-4cbe-a492-da92cd097797\" class=\"plotly-graph-div\" style=\"height:525px; width:100%;\"></div>            <script type=\"text/javascript\">                                    window.PLOTLYENV=window.PLOTLYENV || {};                                    if (document.getElementById(\"363192fa-c0a4-4cbe-a492-da92cd097797\")) {                    Plotly.newPlot(                        \"363192fa-c0a4-4cbe-a492-da92cd097797\",                        [{\"hovertemplate\":\"x=%{x}\\u003cbr\\u003ey=%{y}\\u003cbr\\u003ez=%{z}\\u003cextra\\u003e\\u003c\\u002fextra\\u003e\",\"legendgroup\":\"\",\"marker\":{\"color\":\"#636efa\",\"symbol\":\"circle\"},\"mode\":\"markers\",\"name\":\"\",\"scene\":\"scene\",\"showlegend\":false,\"x\":[1.764052345967664,0.4001572083672233,0.9787379841057392,2.240893199201458,1.8675579901499675,-0.977277879876411,0.9500884175255894,-0.1513572082976979,-0.10321885179355784,0.41059850193837233,0.144043571160878,1.454273506962975,0.7610377251469934,0.12167501649282841,0.44386323274542566,0.33367432737426683,1.4940790731576061,-0.20515826376580087,0.31306770165090136,-0.8540957393017248,-2.5529898158340787,0.6536185954403606,0.8644361988595057,-0.7421650204064419,2.2697546239876076,-1.4543656745987648,0.04575851730144607,-0.1871838500258336,1.5327792143584575,1.469358769900285,0.1549474256969163,0.37816251960217356,-0.8877857476301128,-1.980796468223927,-0.3479121493261526,0.15634896910398005,1.2302906807277207,1.2023798487844113,-0.3873268174079523,-0.30230275057533557,-1.0485529650670926,-1.4200179371789752,-1.7062701906250126,1.9507753952317897,-0.5096521817516535,-0.4380743016111864,-1.2527953600499262,0.7774903558319101,-1.6138978475579515,-0.2127402802139687,-0.8954665611936756,0.386902497859262,-0.510805137568873,-1.180632184122412,-0.028182228338654868,0.42833187053041766,0.06651722238316789,0.3024718977397814,-0.6343220936809636,-0.3627411659871381,-0.672460447775951,-0.3595531615405413,-0.813146282044454,-1.7262826023316769,0.17742614225375283,-0.4017809362082619,-1.6301983469660446,0.4627822555257742,-0.9072983643832422,0.05194539579613895,0.7290905621775369,0.12898291075741067,1.1394006845433007,-1.2348258203536526,0.402341641177549,-0.6848100909403132,-0.8707971491818818,-0.5788496647644155,-0.31155253212737266,0.05616534222974544,-1.1651498407833565,0.9008264869541871,0.46566243973045984,-1.5362436862772237,1.4882521937955997,1.8958891760305832,1.1787795711596507,-0.17992483581235091,-1.0707526215105425,1.0544517269311366,-0.40317694697317963,1.2224450703824274,0.2082749780768603,0.9766390364837128,0.3563663971744019,0.7065731681919482,0.010500020720820478,1.7858704939058352,0.12691209270361992,0.40198936344470165],\"y\":[1.8831506970562544,-1.3477590611424464,-1.2704849984857336,0.9693967081580112,-1.17312340511416,1.9436211856492926,-0.41361898075974735,-0.7474548114407578,1.9229420264803847,1.4805147914344243,1.8675589604265699,0.9060446582753853,-0.8612256850547025,1.9100649530990337,-0.2680033709513804,0.8024563957963952,0.947251967773748,-0.1550100930908342,0.6140793703460803,0.9222066715665268,0.37642553115562943,-1.0994007905841945,0.298238174206056,1.3263858966870303,-0.6945678597313655,-0.14963454032767076,-0.43515355172163744,1.8492637284793418,0.6722947570124355,0.40746183624111043,-0.7699160744453164,0.5392491912918173,-0.6743326606573761,0.03183055827435118,-0.635846078378881,0.6764332949464997,0.5765908166149409,-0.20829875557799488,0.3960067126616453,-1.0930615087305058,-1.4912575927056055,0.4393917012645369,0.16667349537252904,0.6350314368921064,2.383144774863942,0.9444794869904138,-0.9128222254441586,1.117016288095853,-1.3159074105115212,-0.461584604814709,-0.06824160532463124,1.7133427216493666,-0.7447548220484399,-0.8264385386590144,-0.0984525244254323,-0.6634782863621074,1.126635922106507,-1.0799315083634233,-1.1474686524111024,-0.43782004474443403,-0.4980324506923049,1.9295320538169858,0.9494208069257608,0.0875512413851909,-1.225435518830168,0.8443629764015471,-1.0002153473895647,-1.5447710967776116,1.1880297923523018,0.3169426119248496,0.920858823780819,0.3187276529430212,0.8568306119026912,-0.6510255933001469,-1.0342428417844647,0.681594518281627,-0.8034096641738411,-0.6895497777502005,-0.45553250351734315,0.01747915902505673,-0.35399391125348395,-1.3749512934180188,-0.6436184028328905,-2.2234031522244266,0.6252314510271875,-1.6020576556067476,-1.1043833394284506,0.052165079260974405,-0.7395629963913133,1.5430145954067358,-1.2928569097234486,0.26705086934918293,-0.0392828182274956,-1.1680934977411974,0.5232766605317537,-0.1715463312222481,0.7717905512136674,0.8235041539637314,2.16323594928069,1.336527949436392],\"z\":[-0.3691818379424436,-0.2393791775759264,1.0996595958871132,0.6552637307225978,0.640131526097592,-1.6169560443108344,-0.024326124398935636,-0.7380309092056887,0.27992459904323824,-0.09815038964295794,0.9101789080925919,0.31721821519130206,0.7863279621089762,-0.46641909673594306,-0.9444462559182504,-0.41004969320254847,-0.017020413861440594,0.3791517355550818,2.259308950690852,-0.04225715166064269,-0.955945000492777,-0.34598177569938643,-0.4635959746460942,0.4814814737734622,-1.5407970144446248,0.06326199420033171,0.1565065379653756,0.23218103620027578,-0.5973160689653627,-0.237921729736007,-1.4240609089825316,-0.49331988336219407,-0.5428614760167177,0.4160500462614255,-1.1561824318219127,0.7811981017099934,1.4944845444913688,-2.0699850250135325,0.42625873077810095,0.6769080350302455,-0.637437025552229,-0.39727181432879766,-0.13288057758695562,-0.2977908794017283,-0.3090129690471222,-1.6760038063299767,1.15233156478312,1.079618592036821,-0.8133642592042029,-1.466424327802514,0.5210648764527586,-0.5757879698130661,0.14195316332077967,-0.3193284171450952,0.6915387510701866,0.6947491436560059,-0.7255973784635843,-1.3833639553950554,-1.582938397335082,0.6103793791072052,-1.188859257784029,-0.5068163542986875,-0.5963140384505081,-0.05256729626954629,-1.936279805846507,0.18877859679382855,0.5238910238342056,0.08842208704466141,-0.3108861716984717,0.09740016626878341,0.3990463456401302,-2.77259275642665,1.9559123082506942,0.39009332268792646,-0.65240858238702,-0.3909533751876011,0.49374177734918845,-0.11610393903436653,-2.0306844677814944,2.0644928613593194,-0.11054065723247261,1.0201727117157997,-0.6920498477843912,1.5363770542457977,0.28634368889227957,0.6088438344754508,-1.0452533661469547,1.2111452896827009,0.6898181645347884,1.3018462295649984,-0.6280875596415789,-0.4810271184607877,2.303916697683942,-1.0600158227215473,-0.13594970067832082,1.1368913626026953,0.0977249677148556,0.5829536797532936,-0.3994490292628752,0.37005588784751875],\"type\":\"scatter3d\"}],                        {\"template\":{\"data\":{\"histogram2dcontour\":[{\"type\":\"histogram2dcontour\",\"colorbar\":{\"outlinewidth\":0,\"ticks\":\"\"},\"colorscale\":[[0.0,\"#0d0887\"],[0.1111111111111111,\"#46039f\"],[0.2222222222222222,\"#7201a8\"],[0.3333333333333333,\"#9c179e\"],[0.4444444444444444,\"#bd3786\"],[0.5555555555555556,\"#d8576b\"],[0.6666666666666666,\"#ed7953\"],[0.7777777777777778,\"#fb9f3a\"],[0.8888888888888888,\"#fdca26\"],[1.0,\"#f0f921\"]]}],\"choropleth\":[{\"type\":\"choropleth\",\"colorbar\":{\"outlinewidth\":0,\"ticks\":\"\"}}],\"histogram2d\":[{\"type\":\"histogram2d\",\"colorbar\":{\"outlinewidth\":0,\"ticks\":\"\"},\"colorscale\":[[0.0,\"#0d0887\"],[0.1111111111111111,\"#46039f\"],[0.2222222222222222,\"#7201a8\"],[0.3333333333333333,\"#9c179e\"],[0.4444444444444444,\"#bd3786\"],[0.5555555555555556,\"#d8576b\"],[0.6666666666666666,\"#ed7953\"],[0.7777777777777778,\"#fb9f3a\"],[0.8888888888888888,\"#fdca26\"],[1.0,\"#f0f921\"]]}],\"heatmap\":[{\"type\":\"heatmap\",\"colorbar\":{\"outlinewidth\":0,\"ticks\":\"\"},\"colorscale\":[[0.0,\"#0d0887\"],[0.1111111111111111,\"#46039f\"],[0.2222222222222222,\"#7201a8\"],[0.3333333333333333,\"#9c179e\"],[0.4444444444444444,\"#bd3786\"],[0.5555555555555556,\"#d8576b\"],[0.6666666666666666,\"#ed7953\"],[0.7777777777777778,\"#fb9f3a\"],[0.8888888888888888,\"#fdca26\"],[1.0,\"#f0f921\"]]}],\"heatmapgl\":[{\"type\":\"heatmapgl\",\"colorbar\":{\"outlinewidth\":0,\"ticks\":\"\"},\"colorscale\":[[0.0,\"#0d0887\"],[0.1111111111111111,\"#46039f\"],[0.2222222222222222,\"#7201a8\"],[0.3333333333333333,\"#9c179e\"],[0.4444444444444444,\"#bd3786\"],[0.5555555555555556,\"#d8576b\"],[0.6666666666666666,\"#ed7953\"],[0.7777777777777778,\"#fb9f3a\"],[0.8888888888888888,\"#fdca26\"],[1.0,\"#f0f921\"]]}],\"contourcarpet\":[{\"type\":\"contourcarpet\",\"colorbar\":{\"outlinewidth\":0,\"ticks\":\"\"}}],\"contour\":[{\"type\":\"contour\",\"colorbar\":{\"outlinewidth\":0,\"ticks\":\"\"},\"colorscale\":[[0.0,\"#0d0887\"],[0.1111111111111111,\"#46039f\"],[0.2222222222222222,\"#7201a8\"],[0.3333333333333333,\"#9c179e\"],[0.4444444444444444,\"#bd3786\"],[0.5555555555555556,\"#d8576b\"],[0.6666666666666666,\"#ed7953\"],[0.7777777777777778,\"#fb9f3a\"],[0.8888888888888888,\"#fdca26\"],[1.0,\"#f0f921\"]]}],\"surface\":[{\"type\":\"surface\",\"colorbar\":{\"outlinewidth\":0,\"ticks\":\"\"},\"colorscale\":[[0.0,\"#0d0887\"],[0.1111111111111111,\"#46039f\"],[0.2222222222222222,\"#7201a8\"],[0.3333333333333333,\"#9c179e\"],[0.4444444444444444,\"#bd3786\"],[0.5555555555555556,\"#d8576b\"],[0.6666666666666666,\"#ed7953\"],[0.7777777777777778,\"#fb9f3a\"],[0.8888888888888888,\"#fdca26\"],[1.0,\"#f0f921\"]]}],\"mesh3d\":[{\"type\":\"mesh3d\",\"colorbar\":{\"outlinewidth\":0,\"ticks\":\"\"}}],\"scatter\":[{\"fillpattern\":{\"fillmode\":\"overlay\",\"size\":10,\"solidity\":0.2},\"type\":\"scatter\"}],\"parcoords\":[{\"type\":\"parcoords\",\"line\":{\"colorbar\":{\"outlinewidth\":0,\"ticks\":\"\"}}}],\"scatterpolargl\":[{\"type\":\"scatterpolargl\",\"marker\":{\"colorbar\":{\"outlinewidth\":0,\"ticks\":\"\"}}}],\"bar\":[{\"error_x\":{\"color\":\"#2a3f5f\"},\"error_y\":{\"color\":\"#2a3f5f\"},\"marker\":{\"line\":{\"color\":\"#E5ECF6\",\"width\":0.5},\"pattern\":{\"fillmode\":\"overlay\",\"size\":10,\"solidity\":0.2}},\"type\":\"bar\"}],\"scattergeo\":[{\"type\":\"scattergeo\",\"marker\":{\"colorbar\":{\"outlinewidth\":0,\"ticks\":\"\"}}}],\"scatterpolar\":[{\"type\":\"scatterpolar\",\"marker\":{\"colorbar\":{\"outlinewidth\":0,\"ticks\":\"\"}}}],\"histogram\":[{\"marker\":{\"pattern\":{\"fillmode\":\"overlay\",\"size\":10,\"solidity\":0.2}},\"type\":\"histogram\"}],\"scattergl\":[{\"type\":\"scattergl\",\"marker\":{\"colorbar\":{\"outlinewidth\":0,\"ticks\":\"\"}}}],\"scatter3d\":[{\"type\":\"scatter3d\",\"line\":{\"colorbar\":{\"outlinewidth\":0,\"ticks\":\"\"}},\"marker\":{\"colorbar\":{\"outlinewidth\":0,\"ticks\":\"\"}}}],\"scattermapbox\":[{\"type\":\"scattermapbox\",\"marker\":{\"colorbar\":{\"outlinewidth\":0,\"ticks\":\"\"}}}],\"scatterternary\":[{\"type\":\"scatterternary\",\"marker\":{\"colorbar\":{\"outlinewidth\":0,\"ticks\":\"\"}}}],\"scattercarpet\":[{\"type\":\"scattercarpet\",\"marker\":{\"colorbar\":{\"outlinewidth\":0,\"ticks\":\"\"}}}],\"carpet\":[{\"aaxis\":{\"endlinecolor\":\"#2a3f5f\",\"gridcolor\":\"white\",\"linecolor\":\"white\",\"minorgridcolor\":\"white\",\"startlinecolor\":\"#2a3f5f\"},\"baxis\":{\"endlinecolor\":\"#2a3f5f\",\"gridcolor\":\"white\",\"linecolor\":\"white\",\"minorgridcolor\":\"white\",\"startlinecolor\":\"#2a3f5f\"},\"type\":\"carpet\"}],\"table\":[{\"cells\":{\"fill\":{\"color\":\"#EBF0F8\"},\"line\":{\"color\":\"white\"}},\"header\":{\"fill\":{\"color\":\"#C8D4E3\"},\"line\":{\"color\":\"white\"}},\"type\":\"table\"}],\"barpolar\":[{\"marker\":{\"line\":{\"color\":\"#E5ECF6\",\"width\":0.5},\"pattern\":{\"fillmode\":\"overlay\",\"size\":10,\"solidity\":0.2}},\"type\":\"barpolar\"}],\"pie\":[{\"automargin\":true,\"type\":\"pie\"}]},\"layout\":{\"autotypenumbers\":\"strict\",\"colorway\":[\"#636efa\",\"#EF553B\",\"#00cc96\",\"#ab63fa\",\"#FFA15A\",\"#19d3f3\",\"#FF6692\",\"#B6E880\",\"#FF97FF\",\"#FECB52\"],\"font\":{\"color\":\"#2a3f5f\"},\"hovermode\":\"closest\",\"hoverlabel\":{\"align\":\"left\"},\"paper_bgcolor\":\"white\",\"plot_bgcolor\":\"#E5ECF6\",\"polar\":{\"bgcolor\":\"#E5ECF6\",\"angularaxis\":{\"gridcolor\":\"white\",\"linecolor\":\"white\",\"ticks\":\"\"},\"radialaxis\":{\"gridcolor\":\"white\",\"linecolor\":\"white\",\"ticks\":\"\"}},\"ternary\":{\"bgcolor\":\"#E5ECF6\",\"aaxis\":{\"gridcolor\":\"white\",\"linecolor\":\"white\",\"ticks\":\"\"},\"baxis\":{\"gridcolor\":\"white\",\"linecolor\":\"white\",\"ticks\":\"\"},\"caxis\":{\"gridcolor\":\"white\",\"linecolor\":\"white\",\"ticks\":\"\"}},\"coloraxis\":{\"colorbar\":{\"outlinewidth\":0,\"ticks\":\"\"}},\"colorscale\":{\"sequential\":[[0.0,\"#0d0887\"],[0.1111111111111111,\"#46039f\"],[0.2222222222222222,\"#7201a8\"],[0.3333333333333333,\"#9c179e\"],[0.4444444444444444,\"#bd3786\"],[0.5555555555555556,\"#d8576b\"],[0.6666666666666666,\"#ed7953\"],[0.7777777777777778,\"#fb9f3a\"],[0.8888888888888888,\"#fdca26\"],[1.0,\"#f0f921\"]],\"sequentialminus\":[[0.0,\"#0d0887\"],[0.1111111111111111,\"#46039f\"],[0.2222222222222222,\"#7201a8\"],[0.3333333333333333,\"#9c179e\"],[0.4444444444444444,\"#bd3786\"],[0.5555555555555556,\"#d8576b\"],[0.6666666666666666,\"#ed7953\"],[0.7777777777777778,\"#fb9f3a\"],[0.8888888888888888,\"#fdca26\"],[1.0,\"#f0f921\"]],\"diverging\":[[0,\"#8e0152\"],[0.1,\"#c51b7d\"],[0.2,\"#de77ae\"],[0.3,\"#f1b6da\"],[0.4,\"#fde0ef\"],[0.5,\"#f7f7f7\"],[0.6,\"#e6f5d0\"],[0.7,\"#b8e186\"],[0.8,\"#7fbc41\"],[0.9,\"#4d9221\"],[1,\"#276419\"]]},\"xaxis\":{\"gridcolor\":\"white\",\"linecolor\":\"white\",\"ticks\":\"\",\"title\":{\"standoff\":15},\"zerolinecolor\":\"white\",\"automargin\":true,\"zerolinewidth\":2},\"yaxis\":{\"gridcolor\":\"white\",\"linecolor\":\"white\",\"ticks\":\"\",\"title\":{\"standoff\":15},\"zerolinecolor\":\"white\",\"automargin\":true,\"zerolinewidth\":2},\"scene\":{\"xaxis\":{\"backgroundcolor\":\"#E5ECF6\",\"gridcolor\":\"white\",\"linecolor\":\"white\",\"showbackground\":true,\"ticks\":\"\",\"zerolinecolor\":\"white\",\"gridwidth\":2},\"yaxis\":{\"backgroundcolor\":\"#E5ECF6\",\"gridcolor\":\"white\",\"linecolor\":\"white\",\"showbackground\":true,\"ticks\":\"\",\"zerolinecolor\":\"white\",\"gridwidth\":2},\"zaxis\":{\"backgroundcolor\":\"#E5ECF6\",\"gridcolor\":\"white\",\"linecolor\":\"white\",\"showbackground\":true,\"ticks\":\"\",\"zerolinecolor\":\"white\",\"gridwidth\":2}},\"shapedefaults\":{\"line\":{\"color\":\"#2a3f5f\"}},\"annotationdefaults\":{\"arrowcolor\":\"#2a3f5f\",\"arrowhead\":0,\"arrowwidth\":1},\"geo\":{\"bgcolor\":\"white\",\"landcolor\":\"#E5ECF6\",\"subunitcolor\":\"white\",\"showland\":true,\"showlakes\":true,\"lakecolor\":\"white\"},\"title\":{\"x\":0.05},\"mapbox\":{\"style\":\"light\"}}},\"scene\":{\"domain\":{\"x\":[0.0,1.0],\"y\":[0.0,1.0]},\"xaxis\":{\"title\":{\"text\":\"x\"}},\"yaxis\":{\"title\":{\"text\":\"y\"}},\"zaxis\":{\"title\":{\"text\":\"z\"}}},\"legend\":{\"tracegroupgap\":0},\"margin\":{\"t\":60}},                        {\"responsive\": true}                    ).then(function(){\n",
              "                            \n",
              "var gd = document.getElementById('363192fa-c0a4-4cbe-a492-da92cd097797');\n",
              "var x = new MutationObserver(function (mutations, observer) {{\n",
              "        var display = window.getComputedStyle(gd).display;\n",
              "        if (!display || display === 'none') {{\n",
              "            console.log([gd, 'removed!']);\n",
              "            Plotly.purge(gd);\n",
              "            observer.disconnect();\n",
              "        }}\n",
              "}});\n",
              "\n",
              "// Listen for the removal of the full notebook cells\n",
              "var notebookContainer = gd.closest('#notebook-container');\n",
              "if (notebookContainer) {{\n",
              "    x.observe(notebookContainer, {childList: true});\n",
              "}}\n",
              "\n",
              "// Listen for the clearing of the current output cell\n",
              "var outputEl = gd.closest('.output');\n",
              "if (outputEl) {{\n",
              "    x.observe(outputEl, {childList: true});\n",
              "}}\n",
              "\n",
              "                        })                };                            </script>        </div>\n",
              "</body>\n",
              "</html>"
            ]
          },
          "metadata": {}
        }
      ]
    }
  ]
}